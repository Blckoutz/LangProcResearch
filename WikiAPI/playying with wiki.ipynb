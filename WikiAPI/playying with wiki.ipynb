{
 "cells": [
  {
   "cell_type": "code",
   "execution_count": 9,
   "id": "ea7fe461-1ca2-4449-808b-08d072e679cb",
   "metadata": {},
   "outputs": [
    {
     "name": "stdin",
     "output_type": "stream",
     "text": [
      "What is the subject? Sean Patrick Flanery\n"
     ]
    },
    {
     "name": "stdout",
     "output_type": "stream",
     "text": [
      "Sean Patrick Flanery (born October 11, 1965) is an American actor. He is known for playing Connor MacManus in The Boondock Saints (1999) and its sequel The Boondock Saints II: All Saints Day (2009), Greg Stillson in the television series The Dead Zone, Jeremy \"Powder\" Reed in Powder (1995), Indiana Jones in the George Lucas television series The Young Indiana Jones Chronicles, as well as Bobby Dagen in Saw 3D (2010). He is also known for his role as Sam Gibson on the CBS soap opera The Young and the Restless in 2011. He starred in Devil's Carnival, a short film which was screened on tour beginning in April 2012. \n",
      "In 2016, he published his first novel, Jane Two, a coming-of-age story drawing inspiration from his own childhood and early experiences.\n",
      "\n",
      "\n"
     ]
    }
   ],
   "source": [
    "#get an abstract\n",
    "import requests\n",
    "\n",
    "#capitalization matters\n",
    "#can enter any wikipedia title here\n",
    "#subject = 'Conway Twitty'\n",
    "#emperor penguin\n",
    "#java\n",
    "#java (programming language)\n",
    "#python (programming language)\n",
    "#python\n",
    "#Pythonidae\n",
    "#History of Python\n",
    "subject = input(\"What is the subject?\")\n",
    "\n",
    "\n",
    "url = 'https://en.wikipedia.org/w/api.php'\n",
    "params = {\n",
    "        'action': 'query',\n",
    "        'format': 'json',\n",
    "        'titles': subject,\n",
    "        'prop': 'extracts',\n",
    "        'exintro': True,\n",
    "        'explaintext': True,\n",
    "    }\n",
    " \n",
    "response = requests.get(url, params=params)\n",
    "data = response.json()\n",
    " \n",
    "page = next(iter(data['query']['pages'].values()))\n",
    "#print(page)\n",
    "#Show only the abstract\n",
    "print(page['extract'][:])\n"
   ]
  },
  {
   "cell_type": "code",
   "execution_count": 24,
   "id": "2b942e93-9c19-46e9-adc3-ee1652e446ef",
   "metadata": {},
   "outputs": [
    {
     "name": "stdin",
     "output_type": "stream",
     "text": [
      "What is the subject? Conway Twitty\n"
     ]
    },
    {
     "name": "stdout",
     "output_type": "stream",
     "text": [
      "\n",
      "\n",
      "Harold Lloyd Jenkins (September 1, 1933 – June 5, 1993), better known by his stage name Conway Twitty, was an American singer and songwriter. Initially a part of the 1950s rockabilly scene, Twitty was best known as a country music performer. From 1971 to 1976, Twitty received a string of Country Music Association awards for duets with Loretta Lynn. He was inducted into both the Country Music and Rockabilly Halls of Fame.\n",
      "\n",
      "Twitty was known for his frequent use of romantic and sentimental themes in his songs. Due to his following being compared to a religious revival, comedian Jerry Clower nicknamed Twitty \"The High Priest of Country Music\", the eventual title of his 33rd studio album. Twitty achieved stardom with hit songs like \"Hello Darlin'\", \"You've Never Been This Far Before\" and \"Linda on My Mind\". Twitty topped Billboard's Hot Country Songs chart 40 times in his career, a record that stood for two decades until it was surpassed by George Strait, and topped the Billboard Hot 100 chart once with \"It's Only Make Believe\". He wrote eleven of his Billboard Hot Country Songs chart-topping hits.[3]\n",
      "\n",
      "Twitty was born Harold Lloyd Jenkins on September 1, 1933, in Friars Point, Mississippi. The Jenkins family were of Welsh descent.[4] He was named by his great-uncle, after his favorite silent movie actor Harold Lloyd. The Jenkins family moved to Helena, Arkansas, when Jenkins was 10 years old. In Helena, Jenkins performed on radio when he was 10, and he formed his first singing group, the Phillips County Ramblers when he was 12,[5] and they had their own show on the local radio station KFFA every Saturday morning.[6] He preached at church revivals when he was a teenager.[6]\n",
      "\n",
      "Twitty was a baseball player with a batting average of .450 when he graduated from high school, and he was offered a contract with the Philadelphia Phillies.[6] He worked for a few months for International Harvester before accepting the Phillies offer.[6]  However, he was drafted into the U.S. Army and served in the Far East, during which time he organized a group called the Cimmarons to entertain his fellow soldiers.[7] The Phillies renewed their offer when he returned home, but Twitty had by now become more interested in pursuing a music career.[6]\n",
      "\n",
      "Soon after hearing Elvis Presley's song \"Mystery Train\", Jenkins began writing rock & roll material. Elvis was a strong influence and Jenkins tried to sound like him. He formed a band called The Rockhousers and wrote a song called \"Rockhouse\".[8] He went to the Sun Studios in Memphis, Tennessee, a few times to record with Sam Phillips, the owner and founder.[8] Although he performed alongside Presley and other rock & roll pioneers throughout this period in a regional club scene situated within a 300-mile radius of Memphis, Tennessee, Twitty expressed a fundamental ambivalence toward Phillips' rhythm and blues-based house production style in an interview for Tony Palmer's All You Need Is Love: The Story of Popular Music (1976), noting that the producer's musical instincts subordinated many elements of Twitty's bluegrass music-influenced style.\n",
      "\n",
      "None of Jenkins's Sun recordings were released at the time, but Roy Orbison did record his composition \"Rockhouse\" (given to Orbison by Phillips without Jenkins' approval), which was issued on SUN 251 (flipside \"You're My Baby\") in 1956.[8]\n",
      "\n",
      "A member of Cimmarons suggested Don Seat as a manager for Jenkins, and Seat indicated to Jenkins that he needed a name with star quality. Jenkins then adopted a stage name in 1957.[6] In The Billboard Book of Number One Hits, Fred Bronson states that the singer named himself after two towns on a map; Conway, Arkansas, and Twitty, Texas, and chose the name Conway Twitty.[6][9] Twitty himself confirmed this while appearing on the David Letterman Show on March 30, 1989.[10] His manager Don Seat, however, said that his girlfriend came up with the name long before Jenkins used it.[8] After Twitty had some success with rock and roll songs, he had considered using his original name Harold Jenkins for his country music releases, while keeping the name Conway Twitty for his rock and roll songs, but he abandoned rock for country in 1965 and kept his stage name.[6]\n",
      "\n",
      "In 1957, under his new name, he recorded briefly for Mercury Records, releasing two unsuccessful singles, \"I Need Your Lovin'\"/\"Born to Sing the Blues\" and \"Shake It Up\"/\"Maybe Baby\". \"I Need Your Lovin'\" reached only No. 93. Although he recorded three more songs with Mercury, his contract was soon terminated.[8]\n",
      "\n",
      "In 1958, Twitty's fortunes improved when an Ohio radio station had an inspiration, refraining from playing \"I'll Try\" (an MGM single that went nowhere in terms of sales, radio play, and jukebox play), instead playing the B-side, \"It's Only Make Believe\", a song written between sets by Twitty and drummer Jack Nance when they were in Hamilton, Ontario, playing at the Flamingo Lounge.[11] The record took several months to reach and stay at the top spot on the Billboard pop music charts in the United States and number 1 in 21 other countries, becoming the first of nine top-40 hits for Twitty. It sold over four million copies and was awarded a gold disc by the RIAA.[12] That same year, country singer Tabby West of ABC-TV's Ozark Jubilee heard Twitty and booked him to appear on the show.[7]\n",
      "\n",
      "When \"It's Only Make Believe\" was first released, because of vocal similarities, many listeners assumed that the song was actually recorded by Elvis Presley, using \"Conway Twitty\" as a pseudonym. Twitty would go on to enjoy rock-and-roll success with songs including \"Danny Boy\" (Pop number 10) and \"Lonely Blue Boy\" (Pop number 6). \"Lonely Blue Boy\", originally titled \"Danny\", was recorded by Presley for the film King Creole but was not used in the soundtrack. This song led to him naming his band the Lonely Blue Boys. They subsequently became the Twitty Birds.[9] As his recording career continued, Twitty's music shifted from rockabilly to rock and roll, and Twitty also recorded some R&B and blues singles.[2]\n",
      "\n",
      "By 1965, Twitty had become disillusioned with rock & roll, particularly with the behavior of the fans,[13] and walked out of a show in the middle of a performance in New Jersey.[6] He sued his manager to be released from his contract, and moved to perform country music in Oklahoma City.[13]\n",
      "\n",
      "Twitty always wanted to record country music, and, beginning in 1965, he did just that. Disc jockeys on some country-music radio stations refused to play his first few country albums, because he was known as a rock and roll singer. However, he had his first top-five country hit, \"The Image of Me\", in July 1968, followed by his first number one country song, \"Next in Line\", in November 1968. Few of his singles beginning in 1968 ranked below the top five.\n",
      "\n",
      "In 1970, Twitty recorded and released his biggest country hit, \"Hello Darlin'\", which spent four weeks at the top of the country chart and is one of Twitty's most recognized songs. In 1971, he released his first hit duet with Loretta Lynn, \"After the Fire Is Gone\". It was a success, and many more followed, including \"Lead Me On\" (1971), \"Louisiana Woman, Mississippi Man\" (1973), \"As Soon As I Hang Up the Phone\" (1974), \"Feelins'\" (1975), \"I Still Believe in Waltzes\", \"I Can't Love You Enough\", and many others. Together, Conway and Loretta (as they were known in their act) won four consecutive Country Music Association awards for vocal duo (1972–1975) and a host of other duo and duet awards from other organizations throughout the 1970s.\n",
      "\n",
      "In 1973, Twitty released \"You've Never Been This Far Before\", which was number 1 in country for three weeks that September and also reached number 22 on the pop charts. Some more conservative disc jockeys refused to play the song, believing that some of the lyrics were too sexually suggestive.\n",
      "\n",
      "In 1978, Twitty issued the single \"The Grandest Lady of Them All\" honoring the Grand Ole Opry. (Somewhat ironically, Twitty was never inducted into the Opry during his lifetime; he remains one of the more prominent Nashville country artists never to have been an Opry member.) The single reached the top 20, peaking at number 16, but it was well below expectations; it was the first time since 1967 that a single of his failed to reach the top ten, as some radio stations refused to play a song honoring the property of a competitor (broadcast by WSM-AM).\n",
      "\n",
      "Twitty soon renewed his image with a new hairstyle, changing from the slicked-back pompadour style to the curlier style he would keep for the rest of his life; by the late 1970s, Twitty had shifted his musical arrangements into a country pop style he would maintain for the rest of his career.[14] His next 23 consecutive singles all made it into the top 10, with 13 reaching number one, including \"Don't Take It Away\", \"I May Never Get to Heaven\", \"Happy Birthday Darlin'\", and remakes of major pop hits such as \"The Rose\", \"Slow Hand\" and \"Tight Fittin' Jeans\", a song written by Michael Huffman, released in June 1981 as the first single from the album Mr. T. The song was Twitty's 26th number one on the country chart. The single stayed at number one for one week and spent a total of 10 weeks on the country chart. In 1985, going by all weekly music trade charts, the song \"Don't Call Him a Cowboy\" became the 50th single of his career to achieve a number-one ranking. He would have five more through 1990, giving him a total of 55 number-one hits. George Strait matched the feat of 50 number-one hits in 2002 with his single \"She'll Leave You with a Smile\" and then reached number 1 for the 56th time in 2007, when the single \"Wrapped\" hit the top on the Media Base 24/7 list.\n",
      "\n",
      "Throughout much of Twitty's country music career his recording home was Decca Records, later renamed MCA. He signed with the label in late 1965 but left in 1981, when it appeared MCA was marketing and promoting newer acts; management at the label had changed, in addition to other factors that brought on the decision. He joined Elektra/Asylum in 1982. That label's country music unit merged with sister label Warner Bros. Records in 1983. He stayed with Warner Bros. through early 1987 but then went back to MCA to finish his career. In 1993, shortly before he died, he recorded a new album, Final Touches.\n",
      "\n",
      "Twitty had a short career in films, appearing in a few B-movies in 1960 in which he acted and sang, starting with Platinum High School, followed by College Confidential and Sex Kittens Go to College.[15][16]\n",
      "\n",
      "Twitty also played baseball, his second passion. He received an offer to play with the Philadelphia Phillies after high school, but he was drafted into the U.S. Army before he could sign the contract. Twitty joined the entrepreneur Larry Schmittou and other country musicians, such as Cal Smith and Jerry Reed in 1977 as investors in the Nashville Sounds, a Minor League Baseball team of the Double-A Southern League, which began playing in 1978.[17] Twitty threw out the ceremonial first pitch at the team's inaugural home opener at Herschel Greer Stadium on April 26, 1978.[18] Twitty would also host celebrity softball games for charity, frequently playing against a team put together by Barbara Mandrell.[19]\n",
      "\n",
      "Twitty lived for many years in Hendersonville, Tennessee, just north of Nashville, Tennessee, where he built a country music entertainment complex named Twitty City at a cost of over $3.5 million.[20] Twitty and Twitty City were once featured on the TV series Lifestyles of the Rich and Famous, and were also seen in the Nashville episode of the BBC series Entertainment USA, presented by Jonathan King. Opened in 1982, Twitty City was a popular tourist stop throughout the 1980s and into the early 1990s; it was shut down in 1994 following a year-long tribute show called Final Touches, when fans and peers in the music business dropped by. The complex was auctioned off and bought by the Trinity Broadcasting Network in June 1994.[21]\n",
      "\n",
      "Twitty was married four times, to three different women. His first marriage, to Ellen Matthews, lasted from 1953 to 1954. They had married because Ellen was pregnant with their son, Michael. His second, and longest, marriage was to Temple \"Mickey\" Medley. They were married in 1956 and had three children: Kathy, Joni Lee, and Jimmy Twitty. The couple were divorced in early 1970, but they remarried quietly by the end of 1970. By 1984, after 28 years of marriage on and off, the stress of Twitty's frequent absences took its toll on Mickey, and she and Conway divorced. Mickey Twitty died in 2021. In 1987, Twitty married his 36-year-old office secretary, Delores \"Dee\" Henry, who became his widow in June 1993.[22]\n",
      "\n",
      "Twitty made Oklahoma City his home during most of his recording career, from 1963 to 1972. He also lived in Norman, Oklahoma. Twitty performed at the Diamond Ballroom after its opening in 1964. Conway Twitty opened one of his Twitty Burger restaurants at 7200 S. Western Avenue in Oklahoma City.[23]\n",
      "\n",
      "In 1981, Twitty was exiting his tour bus when he slipped on the steps and fell, hitting his head against the steps. John Hughey, who was Twitty's steel guitar player, found him on the ground. Many people, including family members, said that Twitty underwent a change in personality after the accident.\n",
      "\n",
      "Twitty served on the board of directors of CMT (Country Music Television) from 1984 to 1988, after Music Village Group (Nyhl Henson, Gilbert Biggers, Hall Hardaway Jr. and Benny and Dean Jaggers) acquired CMTV from Glen Daniels. (Inheriting a copyright infringement suit from Viacom, owner of MTV, settled for an undisclosed sum.) The Music Village Group, built Music Village USA adjacent to Twitty City including a state-of-the-art 1,776-seat theatre where CMT uplinked its 24-hour programming and produced live concerts. When Music Village and Twitty was sold in 1989 and CMT in 1990, Conway turned his attention to the burgeoning Branson market playing to sell-out crowds. Twitty teamed up again with Nyhl Henson and his team to anchor the new musical home of Conway Twitty and inked the deal the day before his death in June 1993.[citation needed]\n",
      "\n",
      "On June 4, 1993, Twitty became ill while performing at the Jim Stafford Theatre in Branson, Missouri.[24] He collapsed on his tour bus after the show and was rushed to a hospital. He was rushed into surgery, but died of an abdominal aortic aneurysm, in the early hours of the following morning at Cox South Hospital in Springfield, Missouri, at the age of 59. Loretta Lynn, who frequently was his chart-making duet partner, was at the hospital because her husband, Mooney, a.k.a. Doo, was recovering from heart surgery, and saw Twitty briefly as he entered the hospital.[25] His last studio album, Final Touches, was released two months later. Four months after Twitty's death, George Jones included a cover version of \"Hello Darlin'\" on his album High-Tech Redneck.\n",
      "\n",
      "Twitty was buried at Sumner Memorial Gardens in Gallatin, Tennessee, in a red granite vault under his birth name Harold L. Jenkins. There are spaces reserved next to him for his wife and his son Michael.[26]\n",
      "\n",
      "After Twitty's death, his estate became entangled in a lengthy court saga between the estate and family members, heirs, employees and others that lasted over a decade.[26][27][28][29][30] In one instance, the estate sued his two daughters, claiming loans were due to be repaid. Five years after his death, The Tennessee Appeals Court referred to that case in its opening sentence with, \"This is yet another chapter in the administration of the estate of Harold L. Jenkins, a popular entertainer whose stage name was 'Conway Twitty.'\" The court sided with the daughters finding that the accountants and controllers of Twitty's books while he was alive, who later became the executors of the estate, kept \"limited and sketchy information\" when it came to the family members.[31] In other instances, employees sued because of oral promises \"to be taken care of\" by Twitty and often were successful. The court found Twitty rarely, if ever, memorialized contracts with family members, contractors and employees in writing. Oral promises included bonuses of $1000 per year of employment. The estate attempted to reduce that to $100 per year.[32]\n",
      "\n",
      "Since his death, Twitty's son Michael and grandson Tre have been carrying on his musical legacy. Conway's most recent appearance on the country charts was a duet with Anita Cochran, \"(I Want to Hear) A Cheating Song\" (2004), which was made possible by splicing Twitty's vocal from old recordings and interviews, recorded over the years. As a result, Twitty's isolated vocal track was transferred to a digital multitrack and digitally reassembled into the new performance. Like the electronic duets of Patsy Cline and Jim Reeves, Hank Williams and Hank Williams Jr., or Nat King Cole and Natalie Cole, Cochran added her vocal to backing tracks that had already been produced along with Twitty's reconstructed vocals.[citation needed]\n",
      "\n",
      "Currently, Bear Family Records offers the single-disc collection Conway Rocks, featuring 30 songs, and The Rock 'n' Roll Years, a comprehensive eight-disc box set showcasing his complete early recordings as a rock artist.[33]\n",
      "\n",
      "Twitty's success in country music was a key factor in his winning the 1983 case Harold L. Jenkins (a/k/a Conway Twitty) v. Commissioner in United States Tax Court. The Internal Revenue Service allowed Twitty to deduct from his taxes, as an \"ordinary and necessary\" business expense, payments that he had made to repay investors in a defunct fast-food chain called Twitty Burger; the chain disestablished in 1971. The general rule is that the payment of someone else's debts is not deductible. Twitty alleged that his primary motive was \"protecting his personal business reputation.\" The court opinion contained testimony from Twitty about his bond with country music fans.[34] The Tax Court ruled in Twitty's favor and allowed him to deduct these repayments.\n",
      "\n",
      "Twitty married four times (twice to Mickey). His widow in 1993, Delores \"Dee\" Henry Jenkins, and his four grown children from the previous marriages, Michael, Joni, Kathy and Jimmy Jenkins, engaged in a public dispute over the estate. Twitty's will had not been updated to account for the fourth marriage, but Tennessee law reserves one third of any estate to the widow. After years of probate, the four children received the rights to Twitty's music, name and image. The rest of the estate went to public auction, where much of the property and memorabilia was sold after his widow rejected the appraised value.\n",
      "\n",
      "In 2008, controversy again erupted in his family when the four remaining children sued Sony/ATV Music Publishing over an agreement that Twitty and his family signed in 1990. The suit alleged that the terms of the agreement were not fully understood by the children, although they were all adults at the time. It sought to recover copyrights and royalty revenue that the document assigned to the company.[35]\n",
      "\n",
      "Academy of Country Music\n",
      "\n",
      "Country Music Association\n",
      "\n",
      "Country Music Hall of Fame and Museum\n",
      "\n",
      "Delta Music Museum Hall of Fame\n",
      "\n",
      "Grammy Awards\n",
      "\n",
      "Rockabilly Hall of Fame\n",
      "\n",
      "Twitty recorded cover versions of numerous songs, notably \"Slow Hand\", a major pop hit for the Pointer Sisters; \"Rest Your Love on Me\", a top-40 country hit for the Bee Gees; \"The Rose\", a major pop hit for Bette Midler; and \"Heartache Tonight\", a major pop hit for the Eagles. Twitty's songs have also been covered numerous times, including four notable covers, George Jones's rendition of \"Hello Darlin\", Blake Shelton's \"Goodbye Time\", The Misfits' and Glen Campbell's[36] versions of \"It's Only Make Believe\" and Elvis Presley's version of \"There's a Honky Tonk Angel (Who'll Take Me Back In)\". In addition, Kenny Chesney's version of \"I'd Love to Lay You Down\" was sung and received some airplay, mostly in the concert realm.\n",
      "\n",
      "Some artists have had hits with songs that Twitty recorded but never released as singles. Among these are the Oak Ridge Boys' top-five hit, \"I Wish You Could Have Turned My Head (And Left My Heart Alone)\", originally from Twitty's album Crosswinds (1979); the Statler Brothers' \"You'll Be Back (Every Night in My Dreams)\", from Twitty's album Rest Your Love On Me (1980); Steve Wariner's \"I'm Already Taken\" (which Wariner wrote), from Twitty's album Mr. T (1981); Lee Greenwood's \"It Turns Me Inside Out\", from Twitty's album Southern Comfort (1982); John Conlee's \"In My Eyes\", from Twitty's album Dream Maker (1982); John Schneider's \"What's a Memory Like You (Doin' in a Love Like This?)\", from Twitty's album Chasin' Rainbows (1985); and Daryle Singletary's \"The Note\" and Ricky Van Shelton's \"Somebody Lied\", from Twitty's album Don't Call Him a Cowboy (1985).\n",
      "\n",
      "\n"
     ]
    }
   ],
   "source": [
    "#get whole text \n",
    "import requests\n",
    "from lxml import html\n",
    " \n",
    "#subject = 'Python (programming language)'\n",
    "subject = input(\"What is the subject?\")\n",
    "url = 'https://en.wikipedia.org/w/api.php'\n",
    "params = {\n",
    "        'action': 'parse',\n",
    "        'format': 'json',\n",
    "        'page': subject,\n",
    "        'prop': 'text',\n",
    "        'redirects':''\n",
    "    }\n",
    "  \n",
    "response = requests.get(url, params=params).json()\n",
    "raw_html = response['parse']['text']['*']\n",
    "#print(raw_html)\n",
    "document = html.document_fromstring(raw_html)\n",
    "#print(document) \n",
    "text = ''\n",
    "for p in document.xpath('//p'):\n",
    "   text += p.text_content() + '\\n'\n",
    "print(text)"
   ]
  },
  {
   "cell_type": "code",
   "execution_count": 5,
   "id": "18304208-aea5-4229-967e-4cfa88cff30a",
   "metadata": {},
   "outputs": [
    {
     "name": "stdin",
     "output_type": "stream",
     "text": [
      "What is the query? jiujitsu\n"
     ]
    },
    {
     "name": "stdout",
     "output_type": "stream",
     "text": [
      "Jujutsu  - Word count:  5165\n",
      "Brazilian jiu-jitsu  - Word count:  8022\n",
      "Unity Jiu Jitsu  - Word count:  369\n",
      "Sada Miyako  - Word count:  342\n",
      "Kato (The Green Hornet)  - Word count:  3633\n",
      "Taijutsu  - Word count:  246\n",
      "Mehran Sattar  - Word count:  697\n",
      "Kade Ruotolo  - Word count:  1843\n",
      "Fairtex Gym  - Word count:  462\n",
      "Sean Patrick Flanery  - Word count:  1388\n"
     ]
    }
   ],
   "source": [
    "#make a search\n",
    "#find occurrences and check if an entity exists and what is the subject name\n",
    "import requests\n",
    " \n",
    "#query = 'python'\n",
    "#not case sensitive\n",
    "query = input(\"What is the query?\") \n",
    "url = 'https://en.wikipedia.org/w/api.php'\n",
    "params = {\n",
    "            'action':'query',\n",
    "            'format':'json',\n",
    "            'list':'search',\n",
    "            'utf8':1,\n",
    "            'srsearch':query\n",
    "        }\n",
    " \n",
    "data = requests.get(url, params=params).json()\n",
    "#print(data) \n",
    "for i in data['query']['search']:\n",
    "    print(i['title'], ' - Word count: ', i['wordcount'])"
   ]
  },
  {
   "cell_type": "code",
   "execution_count": 10,
   "id": "c021805a-794d-42e6-92db-231381677ce6",
   "metadata": {},
   "outputs": [
    {
     "name": "stdin",
     "output_type": "stream",
     "text": [
      "What is the subject? Sean Patrick Flanery\n"
     ]
    },
    {
     "name": "stdout",
     "output_type": "stream",
     "text": [
      "\n",
      "Sean Patrick Flanery (born October 11, 1965) is an American\n",
      "Text length:  5097\n"
     ]
    }
   ],
   "source": [
    "import requests\n",
    "from bs4 import BeautifulSoup\n",
    " \n",
    "subject = input(\"What is the subject?\") \n",
    " \n",
    "url = 'https://en.wikipedia.org/w/api.php'\n",
    "params = {\n",
    "            'action': 'parse',\n",
    "            'page': subject,\n",
    "            'format': 'json',\n",
    "            'prop':'text',\n",
    "            'redirects':''\n",
    "        }\n",
    " \n",
    "response = requests.get(url, params=params)\n",
    "data = response.json()\n",
    " \n",
    "raw_html = data['parse']['text']['*']\n",
    "soup = BeautifulSoup(raw_html,'html.parser')\n",
    "soup.find_all('p') #find all paragraphs\n",
    "text = ''\n",
    " \n",
    "for p in soup.find_all('p'):\n",
    "    text += p.text\n",
    " \n",
    "print(text[:60])\n",
    "print('Text length: ', len(text))"
   ]
  },
  {
   "cell_type": "code",
   "execution_count": 12,
   "id": "1597a650-948a-494d-ab4f-bdfcd38fb1da",
   "metadata": {},
   "outputs": [
    {
     "name": "stdin",
     "output_type": "stream",
     "text": [
      "What is the subject? Sean Patrick Flanery\n"
     ]
    },
    {
     "name": "stdout",
     "output_type": "stream",
     "text": [
      "['A Crush on You', \"A Tiger's Tale\", 'Acceleration (film)', 'Acceptable Risk (film)', 'Alfonso Ribeiro', 'Ascension (Stargate SG-1)', 'Awty International School', 'Best Men', 'Bloody Disgusting', 'Body Shots (film)', 'Borderline (2002 film)', 'Born a Champion', 'Boston Herald', 'Brazilian Jiu-Jitsu', 'Broken Horses', 'CBS', 'CSI: Crime Scene Investigation', 'California', 'Charmed', 'Coming-of-age story', 'Con Express', 'Conservatism in the United States', 'Constitution of the United States', 'Criminal Minds', 'D-Tox', 'Deadline Hollywood', 'Deadly Impact', 'Demon Hunter (film)', \"Devil's Carnival (2012 film)\", 'Dexter (TV series)', 'Direct-to-video', 'Double-Cross (CSI)', 'Dread Central', 'Dulles High School (Sugar Land, Texas)', 'Fort Worth Star-Telegram', 'Frank & Jesse', 'Frank and Penelope', 'George Lucas', 'Girl (1998 film)', 'Greg Stillson', 'Guinevere (1994 film)', 'Happily Ever After (Charmed)', 'Houston, Texas', 'IMDb (identifier)', 'InSight (film)', 'Indiana Jones (character)', 'International Brazilian Jiu-Jitsu Federation', 'Into the Fire (2005 drama film)', \"Johnny Frank Garrett's Last Word\", 'KAW', \"Kepler's Dream (film)\", 'King Arthur', 'Kiss the Bride (2002 film)', 'Lake Charles, Louisiana', 'Lauren Michelle Hill', 'List of Criminal Minds episodes (season 5)', 'List of Dexter characters', 'List of Numb3rs episodes (season 4)', 'List of Saw characters', 'List of The Boys characters', 'List of Touched by an Angel episodes (season 8)', 'Lone Hero', 'Los Angeles', 'Los Angeles Times', 'Louisiana', 'Masters of Horror', 'Mixed martial arts', 'Mongolian Death Worm (film)', 'My First Miracle', 'Nefarious (film)', 'New Straits Times', 'Norman Reedus', 'Numb3rs', 'Pale Saints (film)', 'Phantom (2013 film)', 'Playwright', 'Powder (1995 film)', 'Run the Wild Fields', 'Sam Gibson (character)', 'Savage Planet (film)', 'Saw 3D', 'Screenwriter', 'Simply Irresistible (film)', 'Sinners and Saints (2010 film)', 'Stargate SG-1', 'Stasis (The Outer Limits)', 'Sugar Land, Texas', 'Suicide Kings', 'Syfy', 'TGI Fridays', 'TV Guide', 'The Bay (web series)', 'The Black Keys', 'The Boondock Saints', 'The Boondock Saints 3', 'The Boondock Saints II: All Saints Day', 'The Boys (TV series)', 'The Dallas Morning News', 'The Dead Zone (TV series)', 'The Diamond Hunters', 'The Evil Within (2017 film)', 'The Grass Harp (film)', 'The Insatiable', 'The Outer Limits (1995 TV series)', 'The Outsider (2019 film)', 'The Strip (U.S. TV series)', 'The Twilight Zone (2002 TV series)', 'The Weapon (2023 film)', 'The Young Indiana Jones Chronicles', 'The Young and the Restless', 'Thunder Road Films', 'Touched by an Angel', 'Toyota Pro/Celebrity Race', 'Trafficked', 'Troy Duffy', 'University of St. Thomas (Texas)', 'Veritas, Prince of Truth', 'Vice President of the United States', 'Wikipedia:Citation needed', 'Help:Authority control', 'Category:Articles with unsourced statements from November 2023', 'Category:Use American English from January 2023', 'Category:Use mdy dates from August 2023']\n",
      "number of links:  123\n"
     ]
    }
   ],
   "source": [
    "#find all links on the page\n",
    "#get titles and count\n",
    "import requests\n",
    " \n",
    "subject = input('What is the subject?')\n",
    " \n",
    "url = 'https://en.wikipedia.org/w/api.php'\n",
    " \n",
    "params = {\n",
    "    'action': 'query',\n",
    "    'format': 'json',\n",
    "    'titles': subject,\n",
    "    'prop': 'links',\n",
    "    'pllimit': 'max',\n",
    "    'redirects':''\n",
    "}\n",
    " \n",
    "response = requests.get(url=url, params=params)\n",
    "data = response.json()\n",
    " \n",
    "pages = data['query']['pages']\n",
    "page = 1\n",
    "page_titles = []\n",
    " \n",
    "for key, val in pages.items():\n",
    "    for link in val['links']:\n",
    "        page_titles.append(link['title'])\n",
    " \n",
    "while 'continue' in data:\n",
    "    plcontinue = data['continue']['plcontinue']\n",
    "    params['plcontinue'] = plcontinue\n",
    " \n",
    "    response = requests.get(url=url, params=params)\n",
    "    data = response.json()\n",
    "    pages = data['query']['pages']\n",
    " \n",
    "    page += 1\n",
    " \n",
    "    for key, val in pages.items():\n",
    "        for link in val['links']:\n",
    "            page_titles.append(link['title'])\n",
    " \n",
    "print(page_titles[:3])\n",
    "print('number of links: ',len(page_titles))"
   ]
  },
  {
   "cell_type": "code",
   "execution_count": 45,
   "id": "eda900a2-fbe2-4d83-8040-b25c4e7bf98b",
   "metadata": {},
   "outputs": [
    {
     "name": "stdin",
     "output_type": "stream",
     "text": [
      "What subject? pi\n"
     ]
    },
    {
     "data": {
      "text/html": [
       "<div>\n",
       "<style scoped>\n",
       "    .dataframe tbody tr th:only-of-type {\n",
       "        vertical-align: middle;\n",
       "    }\n",
       "\n",
       "    .dataframe tbody tr th {\n",
       "        vertical-align: top;\n",
       "    }\n",
       "\n",
       "    .dataframe thead th {\n",
       "        text-align: right;\n",
       "    }\n",
       "</style>\n",
       "<table border=\"1\" class=\"dataframe\">\n",
       "  <thead>\n",
       "    <tr style=\"text-align: right;\">\n",
       "      <th></th>\n",
       "      <th>anchor</th>\n",
       "      <th>href</th>\n",
       "    </tr>\n",
       "  </thead>\n",
       "  <tbody>\n",
       "    <tr>\n",
       "      <th>0</th>\n",
       "      <td>a series of articles</td>\n",
       "      <td>/wiki/Category:Pi</td>\n",
       "    </tr>\n",
       "    <tr>\n",
       "      <th>1</th>\n",
       "      <td>Area of a circle</td>\n",
       "      <td>/wiki/Area_of_a_circle</td>\n",
       "    </tr>\n",
       "    <tr>\n",
       "      <th>2</th>\n",
       "      <td>Circumference</td>\n",
       "      <td>/wiki/Circumference</td>\n",
       "    </tr>\n",
       "    <tr>\n",
       "      <th>3</th>\n",
       "      <td>Use in other formulae</td>\n",
       "      <td>/wiki/List_of_formulae_involving_%CF%80</td>\n",
       "    </tr>\n",
       "    <tr>\n",
       "      <th>4</th>\n",
       "      <td>Irrationality</td>\n",
       "      <td>/wiki/Proof_that_%CF%80_is_irrational</td>\n",
       "    </tr>\n",
       "  </tbody>\n",
       "</table>\n",
       "</div>"
      ],
      "text/plain": [
       "                  anchor                                     href\n",
       "0   a series of articles                        /wiki/Category:Pi\n",
       "1       Area of a circle                   /wiki/Area_of_a_circle\n",
       "2          Circumference                      /wiki/Circumference\n",
       "3  Use in other formulae  /wiki/List_of_formulae_involving_%CF%80\n",
       "4          Irrationality    /wiki/Proof_that_%CF%80_is_irrational"
      ]
     },
     "execution_count": 45,
     "metadata": {},
     "output_type": "execute_result"
    }
   ],
   "source": [
    "#fix with pandas\n",
    "from bs4 import BeautifulSoup\n",
    "import pandas as pd\n",
    "import requests\n",
    " \n",
    "subject = input('What subject?')#'Machine Learning'\n",
    " \n",
    "url = 'https://en.wikipedia.org/w/api.php'\n",
    "params = {\n",
    "            'action':'parse',\n",
    "            'prop':'text',\n",
    "            'format':'json',\n",
    "            'page':subject,\n",
    "            'section':0,\n",
    "            'redirects':''\n",
    "        }\n",
    "data = requests.get(url, params=params).json()\n",
    " \n",
    "soup = BeautifulSoup(data['parse']['text']['*'],'html.parser')\n",
    " \n",
    "infobox = soup.find('table',{'class':'infobox','class':'sidebar'})\n",
    " \n",
    "a_tags = infobox.find_all('a', href=True)\n",
    " \n",
    "links = []\n",
    "for tag in a_tags:\n",
    "    if not tag.text == '' and 'wiki' in tag['href']:\n",
    "        links.append({'anchor':tag.text, 'href':tag['href']})\n",
    " \n",
    "pd.DataFrame(links).head()"
   ]
  },
  {
   "cell_type": "code",
   "execution_count": 13,
   "id": "e3642f35-3196-4dcc-83c5-a019f63eb085",
   "metadata": {},
   "outputs": [
    {
     "name": "stdin",
     "output_type": "stream",
     "text": [
      "What subject do you want information on? sean patrick\n"
     ]
    },
    {
     "name": "stdout",
     "output_type": "stream",
     "text": [
      "CHOICE 0 Sean Patrick Flanery  - Word count:  1388\n",
      "CHOICE 1 Sean Patrick Thomas  - Word count:  576\n",
      "CHOICE 2 Sean Patrick Maloney  - Word count:  5856\n",
      "CHOICE 3 Sean Hannity  - Word count:  14452\n",
      "CHOICE 4 Sean Hayes  - Word count:  2544\n",
      "CHOICE 5 Seán Patrick O'Malley  - Word count:  4160\n",
      "CHOICE 6 Sean Duffy  - Word count:  2710\n",
      "CHOICE 7 Sean McNamara  - Word count:  565\n",
      "CHOICE 8 Sean Astin  - Word count:  4091\n",
      "CHOICE 9 Sean Patrick Goble  - Word count:  1664\n"
     ]
    },
    {
     "name": "stdin",
     "output_type": "stream",
     "text": [
      "Please enter the number of the topic you were requesting 0\n"
     ]
    },
    {
     "name": "stdout",
     "output_type": "stream",
     "text": [
      "# words 1071\n",
      "# sentences 35\n",
      "# words without stop words 777\n"
     ]
    }
   ],
   "source": [
    "import requests\n",
    "from lxml import html\n",
    "url = 'https://en.wikipedia.org/w/api.php'\n",
    "\n",
    "##Clarify the one we need\n",
    "subject=input('What subject do you want information on?')\n",
    "#1. check the wiki name\n",
    "#make a search\n",
    "#find occurrences and check if an entity exists and what is the subject name\n",
    "params = {\n",
    "            'action':'query',\n",
    "            'format':'json',\n",
    "            'list':'search',\n",
    "            'utf8':1,\n",
    "            'srsearch':subject\n",
    "        }\n",
    " \n",
    "data = requests.get(url, params=params).json()\n",
    "#print(len(data['query']['search']))\n",
    "subjectConfirmed=0\n",
    "count=0\n",
    "if len(data['query']['search'])> 1:\n",
    "    for i in data['query']['search']:\n",
    "        print('CHOICE',count,i['title'], ' - Word count: ', i['wordcount'])\n",
    "        count=count+1\n",
    "    subjectConfirmed=input('Please enter the number of the topic you were requesting')\n",
    "    subject=data['query']['search'][int(subjectConfirmed)]['title']\n",
    "#print(subjectConfirmed)    \n",
    "#print(data['query']['search'][int(subjectConfirmed)]['title'])\n",
    "\n",
    "#2. grab the document\n",
    "params = {\n",
    "        'action': 'parse',\n",
    "        'format': 'json',\n",
    "        'page': subject,\n",
    "        'prop': 'text',\n",
    "        'redirects':''\n",
    "    }\n",
    "  \n",
    "response = requests.get(url, params=params).json()\n",
    "raw_html = response['parse']['text']['*']\n",
    "#print(raw_html)\n",
    "document = html.document_fromstring(raw_html)\n",
    "#print(document) \n",
    "text = ''\n",
    "for p in document.xpath('//p'):\n",
    "   text += p.text_content() + '\\n'\n",
    "#print(len(text))\n",
    "#print(text[:50])\n",
    "\n",
    "#3. now we can store this data, process it, etc.\n",
    "import nltk.data\n",
    "from nltk.tokenize import word_tokenize\n",
    "from nltk.tokenize import sent_tokenize\n",
    "from nltk.corpus import stopwords #stopword handling\n",
    "\n",
    "english_stops = set(stopwords.words('english'))\n",
    "\n",
    "words=word_tokenize(text) \n",
    "sentences=sent_tokenize(text)\n",
    "#TODO: Decide on a tokenizer\n",
    "print('# words',len(words))#has commas, ( etc.\n",
    "print('# sentences',len(sentences))\n",
    "withoutStops=[word for word in words if word not in english_stops]\n",
    "print('# words without stop words',len(withoutStops))"
   ]
  },
  {
   "cell_type": "code",
   "execution_count": null,
   "id": "43315c84-3bb8-4258-9a7b-40eacac68eab",
   "metadata": {},
   "outputs": [],
   "source": []
  }
 ],
 "metadata": {
  "kernelspec": {
   "display_name": "Python 3 (ipykernel)",
   "language": "python",
   "name": "python3"
  },
  "language_info": {
   "codemirror_mode": {
    "name": "ipython",
    "version": 3
   },
   "file_extension": ".py",
   "mimetype": "text/x-python",
   "name": "python",
   "nbconvert_exporter": "python",
   "pygments_lexer": "ipython3",
   "version": "3.11.0"
  }
 },
 "nbformat": 4,
 "nbformat_minor": 5
}
