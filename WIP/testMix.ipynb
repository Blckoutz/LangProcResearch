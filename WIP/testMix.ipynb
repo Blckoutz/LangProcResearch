{
 "cells": [
  {
   "cell_type": "code",
   "execution_count": null,
   "metadata": {},
   "outputs": [],
   "source": [
    "#! pip install t5\n",
    "#import requests\n",
    "#\n",
    "#subject = input(\"What is your topic?\")\n",
    "\n",
    "#url = 'https://en.wikipedia.org/w/api.php'\n",
    "#params={\n",
    "#    'action':'query',\n",
    "#    'format':'json',\n",
    "#    'titles': subject,\n",
    "#    'prop':'extracts',\n",
    "#    'exintro':True,\n",
    "#    'explaintext': True,\n",
    "#}\n",
    "#response = requests.get(url, params=params)\n",
    "#data = response.json()\n",
    "#\n",
    "#page = next(iter(data['query']['pages'].values()))\n",
    "#\n",
    "#print(page['extract'][:])\n",
    "\n",
    "\n"
   ]
  },
  {
   "cell_type": "code",
   "execution_count": null,
   "metadata": {},
   "outputs": [],
   "source": [
    "import pandas as pd\n",
    "import requests\n",
    "\n",
    "\n",
    "df=pd.read_csv('../csv/output.csv',usecols='category')\n",
    "\n",
    "for x in df:\n",
    "    subject = df[1]\n",
    "\n",
    "\n"
   ]
  }
 ],
 "metadata": {
  "language_info": {
   "name": "python"
  }
 },
 "nbformat": 4,
 "nbformat_minor": 2
}
