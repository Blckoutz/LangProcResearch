{
 "cells": [
  {
   "cell_type": "code",
   "execution_count": 1,
   "id": "52b56af4-cf75-49a4-8cf7-0caaad26cc8a",
   "metadata": {},
   "outputs": [],
   "source": [
    "para=\"Hello World. It's good to see you. Thanks for buying this book.\""
   ]
  },
  {
   "cell_type": "code",
   "execution_count": 2,
   "id": "d89f6232-0138-4594-b636-739ce076ac87",
   "metadata": {},
   "outputs": [],
   "source": [
    "from nltk.tokenize import sent_tokenize"
   ]
  },
  {
   "cell_type": "code",
   "execution_count": 3,
   "id": "e0a70dee-ceb7-4870-9974-c91752707333",
   "metadata": {},
   "outputs": [
    {
     "data": {
      "text/plain": [
       "['Hello World.', \"It's good to see you.\", 'Thanks for buying this book.']"
      ]
     },
     "execution_count": 3,
     "metadata": {},
     "output_type": "execute_result"
    }
   ],
   "source": [
    "sent_tokenize(para) #tokenizes on punctuation symbols"
   ]
  },
  {
   "cell_type": "code",
   "execution_count": 4,
   "id": "371a2026-dca3-4c8b-80af-e64ae666c814",
   "metadata": {},
   "outputs": [],
   "source": [
    "import nltk.data"
   ]
  },
  {
   "cell_type": "code",
   "execution_count": 5,
   "id": "ee1ec445-1bc9-43ca-a93d-9f2aed606fc5",
   "metadata": {},
   "outputs": [],
   "source": [
    "tokenizer=nltk.data.load('tokenizers/punkt/english.pickle')"
   ]
  },
  {
   "cell_type": "code",
   "execution_count": 6,
   "id": "97c4956d-418e-414f-a0e6-2c0ff886648d",
   "metadata": {},
   "outputs": [
    {
     "data": {
      "text/plain": [
       "['Hello World.', \"It's good to see you.\", 'Thanks for buying this book.']"
      ]
     },
     "execution_count": 6,
     "metadata": {},
     "output_type": "execute_result"
    }
   ],
   "source": [
    "tokenizer.tokenize(para)"
   ]
  },
  {
   "cell_type": "code",
   "execution_count": 7,
   "id": "093c570d-ce97-43bc-a124-c8cfdd91831b",
   "metadata": {},
   "outputs": [],
   "source": [
    "from nltk.tokenize import word_tokenize"
   ]
  },
  {
   "cell_type": "code",
   "execution_count": 8,
   "id": "7d25fe5c-669e-421f-8533-1c3c4e60abec",
   "metadata": {},
   "outputs": [
    {
     "data": {
      "text/plain": [
       "['Hello',\n",
       " 'World',\n",
       " '.',\n",
       " 'It',\n",
       " \"'s\",\n",
       " 'good',\n",
       " 'to',\n",
       " 'see',\n",
       " 'you',\n",
       " '.',\n",
       " 'Thanks',\n",
       " 'for',\n",
       " 'buying',\n",
       " 'this',\n",
       " 'book',\n",
       " '.']"
      ]
     },
     "execution_count": 8,
     "metadata": {},
     "output_type": "execute_result"
    }
   ],
   "source": [
    "word_tokenize(para) #word tokenizer"
   ]
  },
  {
   "cell_type": "code",
   "execution_count": 9,
   "id": "44bd8c7e-d05f-4b26-bd44-6765444c9347",
   "metadata": {},
   "outputs": [],
   "source": [
    "from nltk.tokenize import TreebankWordTokenizer"
   ]
  },
  {
   "cell_type": "code",
   "execution_count": 10,
   "id": "10cadbde-6bd4-4079-bd72-88c51b301756",
   "metadata": {},
   "outputs": [],
   "source": [
    "tokenizer=TreebankWordTokenizer()"
   ]
  },
  {
   "cell_type": "code",
   "execution_count": 11,
   "id": "f656ebf3-f7ff-4436-8ca9-c1b5d0d1e4c8",
   "metadata": {},
   "outputs": [
    {
     "data": {
      "text/plain": [
       "['Hello',\n",
       " 'World.',\n",
       " 'It',\n",
       " \"'s\",\n",
       " 'good',\n",
       " 'to',\n",
       " 'see',\n",
       " 'you.',\n",
       " 'Thanks',\n",
       " 'for',\n",
       " 'buying',\n",
       " 'this',\n",
       " 'book',\n",
       " '.']"
      ]
     },
     "execution_count": 11,
     "metadata": {},
     "output_type": "execute_result"
    }
   ],
   "source": [
    "tokenizer.tokenize(para)"
   ]
  },
  {
   "cell_type": "code",
   "execution_count": 13,
   "id": "782e40f6-7493-4b59-8084-284d9047328f",
   "metadata": {},
   "outputs": [
    {
     "data": {
      "text/plain": [
       "['ca', \"n't\"]"
      ]
     },
     "execution_count": 13,
     "metadata": {},
     "output_type": "execute_result"
    }
   ],
   "source": [
    "tokenizer.tokenize(\"can't\") #there are many other tokenizers too"
   ]
  },
  {
   "cell_type": "code",
   "execution_count": 14,
   "id": "58d37f23-339f-41fb-8173-caff7ba1bb36",
   "metadata": {},
   "outputs": [],
   "source": [
    "from nltk.tokenize import RegexpTokenizer"
   ]
  },
  {
   "cell_type": "code",
   "execution_count": 15,
   "id": "e128a00c-9f72-4b68-9881-a13fa00f9059",
   "metadata": {},
   "outputs": [],
   "source": [
    "tokenizer=RegexpTokenizer(\"[\\w']+\")"
   ]
  },
  {
   "cell_type": "code",
   "execution_count": 16,
   "id": "2c066d62-1676-40a1-8509-614034903cf2",
   "metadata": {
    "scrolled": true
   },
   "outputs": [
    {
     "data": {
      "text/plain": [
       "[\"Can't\", 'is', 'a', 'contraction']"
      ]
     },
     "execution_count": 16,
     "metadata": {},
     "output_type": "execute_result"
    }
   ],
   "source": [
    "tokenizer.tokenize(\"Can't is a contraction.\")"
   ]
  },
  {
   "cell_type": "code",
   "execution_count": 19,
   "id": "f511a869-df5f-463b-b686-9d0c3191dd41",
   "metadata": {},
   "outputs": [],
   "source": [
    "from nltk.tokenize import regexp_tokenize #shortcut for regex tokenizer"
   ]
  },
  {
   "cell_type": "code",
   "execution_count": 20,
   "id": "1a615cd8-9bfc-4f93-991f-8281674a1923",
   "metadata": {},
   "outputs": [
    {
     "data": {
      "text/plain": [
       "['Can', 't', 'is', 'a', 'contraction']"
      ]
     },
     "execution_count": 20,
     "metadata": {},
     "output_type": "execute_result"
    }
   ],
   "source": [
    "regexp_tokenize(\"Can't is a contraction.\",\"[\\w+]+\")"
   ]
  },
  {
   "cell_type": "code",
   "execution_count": 22,
   "id": "254fd695-851b-4a26-a25a-0e083d15843b",
   "metadata": {},
   "outputs": [],
   "source": [
    "tokenizer=RegexpTokenizer('\\s+',gaps=True) #leaves punctuation"
   ]
  },
  {
   "cell_type": "code",
   "execution_count": 23,
   "id": "856685e1-0b57-48ce-b344-a56629e9791f",
   "metadata": {},
   "outputs": [
    {
     "data": {
      "text/plain": [
       "[\"Can't\", 'is', 'a', 'contraction.']"
      ]
     },
     "execution_count": 23,
     "metadata": {},
     "output_type": "execute_result"
    }
   ],
   "source": [
    "tokenizer.tokenize(\"Can't is a contraction.\")"
   ]
  },
  {
   "cell_type": "code",
   "execution_count": 24,
   "id": "8b8e6096-b4e1-40b6-a894-e1c93408135d",
   "metadata": {},
   "outputs": [],
   "source": [
    "from nltk.corpus import stopwords #stopword handleing"
   ]
  },
  {
   "cell_type": "code",
   "execution_count": 25,
   "id": "8de1d36d-4778-4e8d-80be-f17b25284aa4",
   "metadata": {},
   "outputs": [],
   "source": [
    "english_stops = set(stopwords.words('english'))"
   ]
  },
  {
   "cell_type": "code",
   "execution_count": 26,
   "id": "eeff6c01-40a6-4178-874f-d0a51394da2b",
   "metadata": {},
   "outputs": [],
   "source": [
    "words=[\"Can't\",'is','a','contraction']"
   ]
  },
  {
   "cell_type": "code",
   "execution_count": 28,
   "id": "195530b8-6005-4826-92af-53dc0cc8634c",
   "metadata": {},
   "outputs": [
    {
     "data": {
      "text/plain": [
       "[\"Can't\", 'contraction']"
      ]
     },
     "execution_count": 28,
     "metadata": {},
     "output_type": "execute_result"
    }
   ],
   "source": [
    "[word for word in words if word not in english_stops]"
   ]
  },
  {
   "cell_type": "code",
   "execution_count": 50,
   "id": "c1b8117d-f267-4255-b9d1-35263aaac265",
   "metadata": {},
   "outputs": [],
   "source": [
    "from nltk.corpus import wordnet"
   ]
  },
  {
   "cell_type": "code",
   "execution_count": 51,
   "id": "a6403667-6cf9-40ef-a22c-af1f4498097c",
   "metadata": {},
   "outputs": [],
   "source": [
    "syn=wordnet.synsets('cookbook')[0]"
   ]
  },
  {
   "cell_type": "code",
   "execution_count": 52,
   "id": "a0079b81-e7d8-4e04-b802-a6f6367b4e4d",
   "metadata": {},
   "outputs": [
    {
     "data": {
      "text/plain": [
       "'cookbook.n.01'"
      ]
     },
     "execution_count": 52,
     "metadata": {},
     "output_type": "execute_result"
    }
   ],
   "source": [
    "syn.name \n",
    "'cookbook.n.01'"
   ]
  },
  {
   "cell_type": "code",
   "execution_count": 53,
   "id": "9622b35e-791f-4f2b-9141-49816f15c292",
   "metadata": {},
   "outputs": [
    {
     "data": {
      "text/plain": [
       "'a book of recipes and cooking instructions'"
      ]
     },
     "execution_count": 53,
     "metadata": {},
     "output_type": "execute_result"
    }
   ],
   "source": [
    "syn.definition\n",
    "'a book of recipes and cooking instructions'"
   ]
  },
  {
   "cell_type": "code",
   "execution_count": 56,
   "id": "f5f058f5-581d-4cd7-8875-b8789f0dc6b2",
   "metadata": {},
   "outputs": [],
   "source": [
    "word='penguin'"
   ]
  },
  {
   "cell_type": "code",
   "execution_count": 59,
   "id": "688945f2-7353-42f5-b970-d6402719488f",
   "metadata": {},
   "outputs": [
    {
     "data": {
      "text/plain": [
       "[Synset('penguin.n.01')]"
      ]
     },
     "execution_count": 59,
     "metadata": {},
     "output_type": "execute_result"
    }
   ],
   "source": [
    "wordnet.synsets(word) #look up unique name"
   ]
  },
  {
   "cell_type": "code",
   "execution_count": 60,
   "id": "f1864120-bcb5-44ab-9c25-fc7476f29ff5",
   "metadata": {},
   "outputs": [
    {
     "data": {
      "text/plain": [
       "Synset('cookbook.n.01')"
      ]
     },
     "execution_count": 60,
     "metadata": {},
     "output_type": "execute_result"
    }
   ],
   "source": [
    "wordnet.synset('cookbook.n.01')"
   ]
  },
  {
   "cell_type": "code",
   "execution_count": 68,
   "id": "3aacc524-b0be-43e8-a5ee-79e964b22aa7",
   "metadata": {},
   "outputs": [
    {
     "data": {
      "text/plain": [
       "'the act of preparing something (as food) by the application of heat'"
      ]
     },
     "execution_count": 68,
     "metadata": {},
     "output_type": "execute_result"
    }
   ],
   "source": [
    "wordnet.synsets('cooking')[0].definition() "
   ]
  },
  {
   "cell_type": "code",
   "execution_count": 70,
   "id": "8648f2f2-b2ee-4576-8753-8dce45e3aa7c",
   "metadata": {},
   "outputs": [
    {
     "data": {
      "text/plain": [
       "'cooking.n.01'"
      ]
     },
     "execution_count": 70,
     "metadata": {},
     "output_type": "execute_result"
    }
   ],
   "source": [
    "wordnet.synsets('cooking')[0].name() "
   ]
  },
  {
   "cell_type": "code",
   "execution_count": 69,
   "id": "c1072528-2021-48f9-9acf-4a638d65c938",
   "metadata": {},
   "outputs": [
    {
     "data": {
      "text/plain": [
       "['cooking can be a great art',\n",
       " 'people are needed who have experience in cookery',\n",
       " 'he left the preparation of meals to his wife']"
      ]
     },
     "execution_count": 69,
     "metadata": {},
     "output_type": "execute_result"
    }
   ],
   "source": [
    "wordnet.synsets('cooking')[0].examples() "
   ]
  },
  {
   "cell_type": "code",
   "execution_count": 66,
   "id": "422f254a-697b-4d31-87ea-7985a0e16db1",
   "metadata": {},
   "outputs": [
    {
     "data": {
      "text/plain": [
       "[Synset('reference_book.n.01')]"
      ]
     },
     "execution_count": 66,
     "metadata": {},
     "output_type": "execute_result"
    }
   ],
   "source": [
    "syn.hypernyms()"
   ]
  },
  {
   "cell_type": "code",
   "execution_count": 67,
   "id": "7ef6defa-d76c-470c-9d1a-caddcd0b1386",
   "metadata": {},
   "outputs": [
    {
     "data": {
      "text/plain": [
       "[Synset('wordbook.n.01'),\n",
       " Synset('source_book.n.01'),\n",
       " Synset('atlas.n.02'),\n",
       " Synset('cookbook.n.01'),\n",
       " Synset('annual.n.02'),\n",
       " Synset('encyclopedia.n.01'),\n",
       " Synset('directory.n.01'),\n",
       " Synset('handbook.n.01'),\n",
       " Synset('instruction_book.n.01')]"
      ]
     },
     "execution_count": 67,
     "metadata": {},
     "output_type": "execute_result"
    }
   ],
   "source": [
    "syn.hypernyms()[0].hyponyms()"
   ]
  },
  {
   "cell_type": "code",
   "execution_count": 71,
   "id": "b7f3b70d-c421-4c2e-b1ee-ffeb5564cb61",
   "metadata": {},
   "outputs": [
    {
     "data": {
      "text/plain": [
       "[Synset('entity.n.01')]"
      ]
     },
     "execution_count": 71,
     "metadata": {},
     "output_type": "execute_result"
    }
   ],
   "source": [
    "syn.root_hypernyms()"
   ]
  },
  {
   "cell_type": "code",
   "execution_count": 72,
   "id": "814a4939-3673-4bb1-9d13-ec7f2e693aff",
   "metadata": {},
   "outputs": [
    {
     "data": {
      "text/plain": [
       "[[Synset('entity.n.01'),\n",
       "  Synset('physical_entity.n.01'),\n",
       "  Synset('object.n.01'),\n",
       "  Synset('whole.n.02'),\n",
       "  Synset('artifact.n.01'),\n",
       "  Synset('creation.n.02'),\n",
       "  Synset('product.n.02'),\n",
       "  Synset('work.n.02'),\n",
       "  Synset('publication.n.01'),\n",
       "  Synset('book.n.01'),\n",
       "  Synset('reference_book.n.01'),\n",
       "  Synset('cookbook.n.01')]]"
      ]
     },
     "execution_count": 72,
     "metadata": {},
     "output_type": "execute_result"
    }
   ],
   "source": [
    "syn.hypernym_paths()"
   ]
  },
  {
   "cell_type": "code",
   "execution_count": 73,
   "id": "dbb22292-a35b-421d-a3a2-bbf0160bd89b",
   "metadata": {},
   "outputs": [
    {
     "data": {
      "text/plain": [
       "'n'"
      ]
     },
     "execution_count": 73,
     "metadata": {},
     "output_type": "execute_result"
    }
   ],
   "source": [
    "syn.pos() #noun (n),adjective (a) ,adverb (r),verb (v)"
   ]
  },
  {
   "cell_type": "code",
   "execution_count": 87,
   "id": "80b20591-a72f-4bae-8fcc-0445a81c8289",
   "metadata": {},
   "outputs": [],
   "source": [
    "word=wordnet.synsets('great')[1]"
   ]
  },
  {
   "cell_type": "code",
   "execution_count": 82,
   "id": "ac180c1e-9b0c-4aef-84ae-e2bd1904880a",
   "metadata": {},
   "outputs": [
    {
     "name": "stdout",
     "output_type": "stream",
     "text": [
      "[Synset('great.n.01'), Synset('great.s.01'), Synset('great.s.02'), Synset('great.s.03'), Synset('bang-up.s.01'), Synset('capital.s.03'), Synset('big.s.13')]\n"
     ]
    }
   ],
   "source": [
    "print(word)"
   ]
  },
  {
   "cell_type": "code",
   "execution_count": 88,
   "id": "73f175f0-6c89-4238-8fec-0bdb423893d8",
   "metadata": {},
   "outputs": [
    {
     "data": {
      "text/plain": [
       "'s'"
      ]
     },
     "execution_count": 88,
     "metadata": {},
     "output_type": "execute_result"
    }
   ],
   "source": [
    "word.pos #what is s?"
   ]
  },
  {
   "cell_type": "code",
   "execution_count": 89,
   "id": "d5c46575-ee3f-4938-a369-719b17069cb9",
   "metadata": {},
   "outputs": [
    {
     "data": {
      "text/plain": [
       "7"
      ]
     },
     "execution_count": 89,
     "metadata": {},
     "output_type": "execute_result"
    }
   ],
   "source": [
    "len(wordnet.synsets('great'))"
   ]
  },
  {
   "cell_type": "code",
   "execution_count": 91,
   "id": "64baf11e-908b-4cbd-8151-60ae2434378d",
   "metadata": {},
   "outputs": [
    {
     "data": {
      "text/plain": [
       "1"
      ]
     },
     "execution_count": 91,
     "metadata": {},
     "output_type": "execute_result"
    }
   ],
   "source": [
    "len(wordnet.synsets('great',pos='n'))"
   ]
  },
  {
   "cell_type": "code",
   "execution_count": 92,
   "id": "5e12587a-5d2e-44ff-b989-8c0e4b58471f",
   "metadata": {},
   "outputs": [
    {
     "data": {
      "text/plain": [
       "6"
      ]
     },
     "execution_count": 92,
     "metadata": {},
     "output_type": "execute_result"
    }
   ],
   "source": [
    "len(wordnet.synsets('great',pos='a'))"
   ]
  },
  {
   "cell_type": "code",
   "execution_count": 97,
   "id": "caec4902-63cf-4033-bafc-c00b0cdf2f0d",
   "metadata": {},
   "outputs": [
    {
     "name": "stdout",
     "output_type": "stream",
     "text": [
      "Synset('cookbook.n.01')\n"
     ]
    }
   ],
   "source": [
    "print(syn)"
   ]
  },
  {
   "cell_type": "code",
   "execution_count": 101,
   "id": "59cb5db1-648b-4dc0-876e-1aab29f126a3",
   "metadata": {},
   "outputs": [],
   "source": [
    "lemmas=syn.lemmas()"
   ]
  },
  {
   "cell_type": "code",
   "execution_count": 102,
   "id": "239584f3-3a83-4c6c-9932-8c0513d0b24b",
   "metadata": {},
   "outputs": [
    {
     "name": "stdout",
     "output_type": "stream",
     "text": [
      "[Lemma('cookbook.n.01.cookbook'), Lemma('cookbook.n.01.cookery_book')]\n"
     ]
    }
   ],
   "source": [
    "print(lemmas)"
   ]
  },
  {
   "cell_type": "code",
   "execution_count": 103,
   "id": "505bf92e-5dc0-422f-9f97-1c46e15c2f9d",
   "metadata": {},
   "outputs": [
    {
     "data": {
      "text/plain": [
       "2"
      ]
     },
     "execution_count": 103,
     "metadata": {},
     "output_type": "execute_result"
    }
   ],
   "source": [
    "len(lemmas)"
   ]
  },
  {
   "cell_type": "code",
   "execution_count": 106,
   "id": "99e6d021-d1b4-4aee-9bec-c0013713f7ed",
   "metadata": {},
   "outputs": [
    {
     "data": {
      "text/plain": [
       "'cookbook'"
      ]
     },
     "execution_count": 106,
     "metadata": {},
     "output_type": "execute_result"
    }
   ],
   "source": [
    "lemmas[0].name()"
   ]
  },
  {
   "cell_type": "code",
   "execution_count": 109,
   "id": "8ef570ca-632e-43a7-b7eb-22838c872df4",
   "metadata": {},
   "outputs": [
    {
     "data": {
      "text/plain": [
       "'cookery_book'"
      ]
     },
     "execution_count": 109,
     "metadata": {},
     "output_type": "execute_result"
    }
   ],
   "source": [
    "lemmas[1].name()"
   ]
  },
  {
   "cell_type": "code",
   "execution_count": 110,
   "id": "9792979b-5aad-4192-9c69-1a0c951b925a",
   "metadata": {},
   "outputs": [
    {
     "data": {
      "text/plain": [
       "False"
      ]
     },
     "execution_count": 110,
     "metadata": {},
     "output_type": "execute_result"
    }
   ],
   "source": [
    "lemmas[0].synset==lemmas[1].synset #book says should be true"
   ]
  },
  {
   "cell_type": "code",
   "execution_count": 116,
   "id": "4bc5cd00-ad1f-4a8b-84f2-cc7130e89b20",
   "metadata": {},
   "outputs": [],
   "source": [
    "gn2=wordnet.synset('good.n.02')"
   ]
  },
  {
   "cell_type": "code",
   "execution_count": 117,
   "id": "f66dcddb-faa3-4219-a610-79cfbe9611dc",
   "metadata": {},
   "outputs": [
    {
     "data": {
      "text/plain": [
       "'moral excellence or admirableness'"
      ]
     },
     "execution_count": 117,
     "metadata": {},
     "output_type": "execute_result"
    }
   ],
   "source": [
    "gn2.definition()"
   ]
  },
  {
   "cell_type": "code",
   "execution_count": 123,
   "id": "8e51265e-039e-4601-a9e6-e5c4c429eb55",
   "metadata": {},
   "outputs": [],
   "source": [
    "evil=gn2.lemmas()[0].antonyms()[0]"
   ]
  },
  {
   "cell_type": "code",
   "execution_count": 125,
   "id": "a58243b5-d757-4e43-9e54-e2b03dac80fa",
   "metadata": {},
   "outputs": [
    {
     "data": {
      "text/plain": [
       "'evil'"
      ]
     },
     "execution_count": 125,
     "metadata": {},
     "output_type": "execute_result"
    }
   ],
   "source": [
    "evil.name()"
   ]
  },
  {
   "cell_type": "code",
   "execution_count": 140,
   "id": "80efdcb2-6119-4026-89bf-94105ac4638d",
   "metadata": {},
   "outputs": [
    {
     "data": {
      "text/plain": [
       "'morally objectionable behavior'"
      ]
     },
     "execution_count": 140,
     "metadata": {},
     "output_type": "execute_result"
    }
   ],
   "source": [
    "wordnet.synsets(evil.name())[0].definition() #edit of line evil.synset.definition on pg. 18"
   ]
  },
  {
   "cell_type": "code",
   "execution_count": 141,
   "id": "fba179d8-4300-4a17-83f8-ce5657f1cd5b",
   "metadata": {},
   "outputs": [],
   "source": [
    "ga1=wordnet.synset('good.a.01')"
   ]
  },
  {
   "cell_type": "code",
   "execution_count": 142,
   "id": "d0b69c2e-ee00-4f1b-93e5-cccede9ef920",
   "metadata": {},
   "outputs": [
    {
     "data": {
      "text/plain": [
       "'having desirable or positive qualities especially those suitable for a thing specified'"
      ]
     },
     "execution_count": 142,
     "metadata": {},
     "output_type": "execute_result"
    }
   ],
   "source": [
    "ga1.definition()"
   ]
  },
  {
   "cell_type": "code",
   "execution_count": 143,
   "id": "a1b08dd0-4677-4438-9c5c-8229664f8730",
   "metadata": {},
   "outputs": [],
   "source": [
    "bad=ga1.lemmas()[0].antonyms()[0]"
   ]
  },
  {
   "cell_type": "code",
   "execution_count": 144,
   "id": "bf7ced6c-4341-4ce2-819f-d0bd51898907",
   "metadata": {},
   "outputs": [
    {
     "data": {
      "text/plain": [
       "'bad'"
      ]
     },
     "execution_count": 144,
     "metadata": {},
     "output_type": "execute_result"
    }
   ],
   "source": [
    "bad.name()"
   ]
  },
  {
   "cell_type": "code",
   "execution_count": 147,
   "id": "138d86ca-b410-4a09-8e32-fc5b418dba44",
   "metadata": {},
   "outputs": [
    {
     "data": {
      "text/plain": [
       "'that which is below standard or expectations as of ethics or decency'"
      ]
     },
     "execution_count": 147,
     "metadata": {},
     "output_type": "execute_result"
    }
   ],
   "source": [
    "wordnet.synsets(bad.name())[0].definition()"
   ]
  },
  {
   "cell_type": "code",
   "execution_count": 148,
   "id": "0b6051f7-4d0e-4bac-b150-80b9e3cdcc6e",
   "metadata": {},
   "outputs": [],
   "source": [
    "cb=wordnet.synset('cookbook.n.01')"
   ]
  },
  {
   "cell_type": "code",
   "execution_count": 149,
   "id": "ee9e3860-a64e-4932-820b-65795d42b8cb",
   "metadata": {},
   "outputs": [],
   "source": [
    "ib=wordnet.synset('instruction_book.n.01')"
   ]
  },
  {
   "cell_type": "code",
   "execution_count": 150,
   "id": "194557a2-4cd6-4b32-9601-e7ac426047ca",
   "metadata": {},
   "outputs": [
    {
     "data": {
      "text/plain": [
       "0.9166666666666666"
      ]
     },
     "execution_count": 150,
     "metadata": {},
     "output_type": "execute_result"
    }
   ],
   "source": [
    "cb.wup_similarity(ib) #check similarity of two words"
   ]
  },
  {
   "cell_type": "code",
   "execution_count": 152,
   "id": "4da1f688-6555-430f-9fe0-b535eac337a9",
   "metadata": {},
   "outputs": [],
   "source": [
    "ref=cb.hypernyms()[0]"
   ]
  },
  {
   "cell_type": "code",
   "execution_count": 153,
   "id": "aaf40553-4a63-473b-be53-745ebb6b33cd",
   "metadata": {},
   "outputs": [
    {
     "data": {
      "text/plain": [
       "1"
      ]
     },
     "execution_count": 153,
     "metadata": {},
     "output_type": "execute_result"
    }
   ],
   "source": [
    "cb.shortest_path_distance(ref)"
   ]
  },
  {
   "cell_type": "code",
   "execution_count": 154,
   "id": "6ed5342a-221b-4860-b6bf-febc5e691a24",
   "metadata": {},
   "outputs": [
    {
     "data": {
      "text/plain": [
       "1"
      ]
     },
     "execution_count": 154,
     "metadata": {},
     "output_type": "execute_result"
    }
   ],
   "source": [
    "ib.shortest_path_distance(ref)"
   ]
  },
  {
   "cell_type": "code",
   "execution_count": 155,
   "id": "4058af5f-778e-4fb7-8eea-820ae61f8e03",
   "metadata": {},
   "outputs": [
    {
     "data": {
      "text/plain": [
       "2"
      ]
     },
     "execution_count": 155,
     "metadata": {},
     "output_type": "execute_result"
    }
   ],
   "source": [
    "cb.shortest_path_distance(ib)"
   ]
  },
  {
   "cell_type": "code",
   "execution_count": 157,
   "id": "18b15068-3903-4cf9-b673-1b44b902d195",
   "metadata": {},
   "outputs": [],
   "source": [
    "dog=wordnet.synsets('dog')[0]"
   ]
  },
  {
   "cell_type": "code",
   "execution_count": 158,
   "id": "b6244511-fc1f-48d1-82a4-41ca8d33e0c2",
   "metadata": {},
   "outputs": [
    {
     "data": {
      "text/plain": [
       "0.38095238095238093"
      ]
     },
     "execution_count": 158,
     "metadata": {},
     "output_type": "execute_result"
    }
   ],
   "source": [
    "dog.wup_similarity(cb) #there are also other similarity methods"
   ]
  },
  {
   "cell_type": "code",
   "execution_count": 159,
   "id": "efb4d63d-4bb5-4d3f-9e61-216f4e532d19",
   "metadata": {},
   "outputs": [
    {
     "data": {
      "text/plain": [
       "[Synset('entity.n.01'),\n",
       " Synset('physical_entity.n.01'),\n",
       " Synset('whole.n.02'),\n",
       " Synset('object.n.01')]"
      ]
     },
     "execution_count": 159,
     "metadata": {},
     "output_type": "execute_result"
    }
   ],
   "source": [
    "dog.common_hypernyms(cb)"
   ]
  },
  {
   "cell_type": "code",
   "execution_count": 160,
   "id": "beddbd81-23bf-46d4-9d36-ef6d1842981e",
   "metadata": {},
   "outputs": [],
   "source": [
    "#there is also way to find two words together Unisted states etc. "
   ]
  },
  {
   "cell_type": "code",
   "execution_count": 163,
   "id": "ce2a0914-aef2-4221-aa9b-e27c271a5c37",
   "metadata": {},
   "outputs": [],
   "source": [
    "from nltk.stem import PorterStemmer #also LancasterStemmer"
   ]
  },
  {
   "cell_type": "code",
   "execution_count": 164,
   "id": "34ad1a2e-020e-4c3c-8e71-6110f8120500",
   "metadata": {},
   "outputs": [],
   "source": [
    "stemmer=PorterStemmer()"
   ]
  },
  {
   "cell_type": "code",
   "execution_count": 165,
   "id": "ebd8f514-fdcf-410e-9280-a84ce21b1b33",
   "metadata": {},
   "outputs": [
    {
     "data": {
      "text/plain": [
       "'cook'"
      ]
     },
     "execution_count": 165,
     "metadata": {},
     "output_type": "execute_result"
    }
   ],
   "source": [
    "stemmer.stem('cooking')"
   ]
  },
  {
   "cell_type": "code",
   "execution_count": 166,
   "id": "ffc61d9a-1b8e-45c1-9de6-738d13e56f0e",
   "metadata": {},
   "outputs": [
    {
     "data": {
      "text/plain": [
       "'cookeri'"
      ]
     },
     "execution_count": 166,
     "metadata": {},
     "output_type": "execute_result"
    }
   ],
   "source": [
    "stemmer.stem('cookery')"
   ]
  },
  {
   "cell_type": "code",
   "execution_count": 167,
   "id": "16cbea83-7422-4df2-8dcb-00167836c3ef",
   "metadata": {},
   "outputs": [],
   "source": [
    "from nltk.stem import RegexpStemmer #only for special stemming"
   ]
  },
  {
   "cell_type": "code",
   "execution_count": 169,
   "id": "af2a8a4c-f898-4ba7-84de-e11165fa18d7",
   "metadata": {},
   "outputs": [],
   "source": [
    "stemmer=RegexpStemmer('ing')"
   ]
  },
  {
   "cell_type": "code",
   "execution_count": 170,
   "id": "3555debc-6a3c-4f67-8efa-89670d6c2f84",
   "metadata": {},
   "outputs": [
    {
     "data": {
      "text/plain": [
       "'cook'"
      ]
     },
     "execution_count": 170,
     "metadata": {},
     "output_type": "execute_result"
    }
   ],
   "source": [
    "stemmer.stem('cooking')"
   ]
  },
  {
   "cell_type": "code",
   "execution_count": 171,
   "id": "83c51bcc-c582-4869-8da9-d0cd8981180c",
   "metadata": {},
   "outputs": [
    {
     "data": {
      "text/plain": [
       "'cookery'"
      ]
     },
     "execution_count": 171,
     "metadata": {},
     "output_type": "execute_result"
    }
   ],
   "source": [
    "stemmer.stem('cookery')"
   ]
  },
  {
   "cell_type": "code",
   "execution_count": 172,
   "id": "5caea4bd-4f17-4242-9f55-93e075085221",
   "metadata": {},
   "outputs": [
    {
     "data": {
      "text/plain": [
       "'leside'"
      ]
     },
     "execution_count": 172,
     "metadata": {},
     "output_type": "execute_result"
    }
   ],
   "source": [
    "stemmer.stem('ingleside')"
   ]
  },
  {
   "cell_type": "code",
   "execution_count": 173,
   "id": "1b816683-7c2e-4b90-8dec-2d23545d3dae",
   "metadata": {},
   "outputs": [],
   "source": [
    "from nltk.stem import WordNetLemmatizer"
   ]
  },
  {
   "cell_type": "code",
   "execution_count": 174,
   "id": "355ea6c1-c1d4-45bb-9f10-57ac8d5509b9",
   "metadata": {},
   "outputs": [],
   "source": [
    "lemmatizer=WordNetLemmatizer()"
   ]
  },
  {
   "cell_type": "code",
   "execution_count": 175,
   "id": "f33ae4f7-9d78-4479-97a1-c8d1e7150e21",
   "metadata": {},
   "outputs": [
    {
     "data": {
      "text/plain": [
       "'cooking'"
      ]
     },
     "execution_count": 175,
     "metadata": {},
     "output_type": "execute_result"
    }
   ],
   "source": [
    "lemmatizer.lemmatize('cooking')"
   ]
  },
  {
   "cell_type": "code",
   "execution_count": 176,
   "id": "a527a132-401f-49ec-9fbe-c4059b366682",
   "metadata": {},
   "outputs": [
    {
     "data": {
      "text/plain": [
       "'cook'"
      ]
     },
     "execution_count": 176,
     "metadata": {},
     "output_type": "execute_result"
    }
   ],
   "source": [
    "lemmatizer.lemmatize('cooking',pos='v')"
   ]
  },
  {
   "cell_type": "code",
   "execution_count": 177,
   "id": "e922d5bd-0aaa-4d9a-a4ef-8c3c0538de90",
   "metadata": {},
   "outputs": [
    {
     "data": {
      "text/plain": [
       "'cookbook'"
      ]
     },
     "execution_count": 177,
     "metadata": {},
     "output_type": "execute_result"
    }
   ],
   "source": [
    "lemmatizer.lemmatize('cookbooks')"
   ]
  },
  {
   "cell_type": "code",
   "execution_count": 178,
   "id": "a9f80ce4-f9e7-4779-99f4-f63610906fcf",
   "metadata": {},
   "outputs": [
    {
     "data": {
      "text/plain": [
       "'believes'"
      ]
     },
     "execution_count": 178,
     "metadata": {},
     "output_type": "execute_result"
    }
   ],
   "source": [
    "stemmer.stem('believes')"
   ]
  },
  {
   "cell_type": "code",
   "execution_count": 179,
   "id": "3d47f3b6-2c2b-43d7-ae70-f4b982fe4d03",
   "metadata": {},
   "outputs": [
    {
     "data": {
      "text/plain": [
       "'belief'"
      ]
     },
     "execution_count": 179,
     "metadata": {},
     "output_type": "execute_result"
    }
   ],
   "source": [
    "lemmatizer.lemmatize('believes')"
   ]
  },
  {
   "cell_type": "code",
   "execution_count": null,
   "id": "0da8bd2c-2baa-448d-a7fc-579da56e1f49",
   "metadata": {},
   "outputs": [],
   "source": [
    "#API doesn't exist anymore"
   ]
  },
  {
   "cell_type": "code",
   "execution_count": 181,
   "id": "6ce1cf64-f431-4c5a-8baf-1112d94c065f",
   "metadata": {},
   "outputs": [],
   "source": [
    "#from nltk.misc import babelfish"
   ]
  },
  {
   "cell_type": "code",
   "execution_count": 182,
   "id": "2c2446eb-475d-4938-b774-a4e64214c153",
   "metadata": {},
   "outputs": [
    {
     "ename": "AttributeError",
     "evalue": "module 'nltk.misc.babelfish' has no attribute 'translate'",
     "output_type": "error",
     "traceback": [
      "\u001b[1;31m---------------------------------------------------------------------------\u001b[0m",
      "\u001b[1;31mAttributeError\u001b[0m                            Traceback (most recent call last)",
      "Cell \u001b[1;32mIn[182], line 1\u001b[0m\n\u001b[1;32m----> 1\u001b[0m \u001b[43mbabelfish\u001b[49m\u001b[38;5;241;43m.\u001b[39;49m\u001b[43mtranslate\u001b[49m(\u001b[38;5;124m'\u001b[39m\u001b[38;5;124mcookbook\u001b[39m\u001b[38;5;124m'\u001b[39m,\u001b[38;5;124m'\u001b[39m\u001b[38;5;124menglish\u001b[39m\u001b[38;5;124m'\u001b[39m,\u001b[38;5;124m'\u001b[39m\u001b[38;5;124mspanish\u001b[39m\u001b[38;5;124m'\u001b[39m)\n",
      "\u001b[1;31mAttributeError\u001b[0m: module 'nltk.misc.babelfish' has no attribute 'translate'"
     ]
    }
   ],
   "source": [
    "#babelfish.translate('cookbook','english','spanish')"
   ]
  },
  {
   "cell_type": "code",
   "execution_count": 184,
   "id": "9e0023ad-605d-45d1-a99e-3561da1a5690",
   "metadata": {},
   "outputs": [
    {
     "ename": "ModuleNotFoundError",
     "evalue": "No module named 'replacers'",
     "output_type": "error",
     "traceback": [
      "\u001b[1;31m---------------------------------------------------------------------------\u001b[0m",
      "\u001b[1;31mModuleNotFoundError\u001b[0m                       Traceback (most recent call last)",
      "Cell \u001b[1;32mIn[184], line 1\u001b[0m\n\u001b[1;32m----> 1\u001b[0m \u001b[38;5;28;01mfrom\u001b[39;00m \u001b[38;5;21;01mreplacers\u001b[39;00m \u001b[38;5;28;01mimport\u001b[39;00m RegexReplacer\n",
      "\u001b[1;31mModuleNotFoundError\u001b[0m: No module named 'replacers'"
     ]
    }
   ],
   "source": [
    "from replacers import RegexReplacer"
   ]
  },
  {
   "cell_type": "code",
   "execution_count": null,
   "id": "503cdf31-cc4c-4cbe-b548-525290fdaa22",
   "metadata": {},
   "outputs": [],
   "source": []
  }
 ],
 "metadata": {
  "kernelspec": {
   "display_name": "NLTK_KERNEL",
   "language": "python",
   "name": "nltk_kernel"
  },
  "language_info": {
   "codemirror_mode": {
    "name": "ipython",
    "version": 3
   },
   "file_extension": ".py",
   "mimetype": "text/x-python",
   "name": "python",
   "nbconvert_exporter": "python",
   "pygments_lexer": "ipython3",
   "version": "3.11.0"
  }
 },
 "nbformat": 4,
 "nbformat_minor": 5
}
